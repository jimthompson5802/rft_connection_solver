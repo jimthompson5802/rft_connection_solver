{
 "cells": [
  {
   "cell_type": "code",
   "execution_count": 1,
   "id": "9350869e",
   "metadata": {},
   "outputs": [],
   "source": [
    "from scoring_utils import score_guess, compute_advantages"
   ]
  },
  {
   "cell_type": "code",
   "execution_count": 2,
   "id": "49583a25",
   "metadata": {},
   "outputs": [],
   "source": [
    "REMAINING_WORDS = [\n",
    "  \"charm\", \"cape\", \"bay\", \"pawn\", \"tights\", \"hex\", \"instrument\", \"puppet\", \"scott\", \"woo\", \"underwear\", \"carpenter\", \"mask\", \"tool\", \"spell\", \"magic\"\n",
    "]\n",
    "INVALID_GUESSES =[\n",
    "    [\"charm\", \"cape\", \"bay\", \"pawn\", \"tights\"],\n",
    "]\n"
   ]
  },
  {
   "cell_type": "code",
   "execution_count": 3,
   "id": "0d3ee136",
   "metadata": {},
   "outputs": [
    {
     "name": "stdout",
     "output_type": "stream",
     "text": [
      "Testing scoring function:\n",
      "PASS: Valid guess with good match - Expected: 1.0, Got: 1.0\n",
      "PASS: Valid guess with partial match - Expected: 0.75, Got: 0.75\n",
      "PASS: Valid guess with matches across groups - Expected: 0.25, Got: 0.25\n",
      "PASS: Multiple matches in different groups - Expected: 0.5, Got: 0.5\n",
      "PASS: Invalid guess - word not in remaining_words - Expected: 0, Got: 0\n",
      "PASS: Invalid guess - already guessed - Expected: 0, Got: 0\n",
      "PASS: Empty guess - Expected: 0, Got: 0\n",
      "PASS: Guess with no matches - Expected: 0, Got: 0\n",
      "PASS: not four words - Expected: 0, Got: 0\n"
     ]
    }
   ],
   "source": [
    "\n",
    "# Sample solution structure from test_set_1.jsonl\n",
    "SOLUTION = {\n",
    "    \"groups\": [\n",
    "        {\"words\": [\"instrument\", \"pawn\", \"puppet\", \"tool\"], \"reason\": \"one being manipulated\"},\n",
    "        {\"words\": [\"charm\", \"hex\", \"magic\", \"spell\"], \"reason\": \"sorcerer's output\"},\n",
    "        {\"words\": [\"cape\", \"mask\", \"tights\", \"underwear\"], \"reason\": \"classic superhero wear\"},\n",
    "        {\"words\": [\"bay\", \"carpenter\", \"scott\", \"woo\"], \"reason\": \"action movie directors\"}\n",
    "    ]\n",
    "}\n",
    "\n",
    "# Test cases\n",
    "test_cases = [\n",
    "    {\n",
    "        \"name\": \"Valid guess with good match\",\n",
    "        \"guess\": [\"charm\", \"hex\", \"magic\", \"spell\"],\n",
    "        \"expected\": 1.0  # Perfect match for group 2 (4 * 0.25)\n",
    "    },\n",
    "    {\n",
    "        \"name\": \"Valid guess with partial match\",\n",
    "        \"guess\": [\"charm\", \"hex\", \"magic\", \"bay\"],\n",
    "        \"expected\": 0.75  # 3 matches with group 2 (3 * 0.25)\n",
    "    },\n",
    "    {\n",
    "        \"name\": \"Valid guess with matches across groups\",\n",
    "        \"guess\": [\"charm\", \"bay\", \"cape\", \"tool\"],\n",
    "        \"expected\": 0.25  # Max score is 0.25 (1 word matches in any single group)\n",
    "    },\n",
    "    {\n",
    "        \"name\": \"Multiple matches in different groups\",\n",
    "        \"guess\": [\"charm\", \"magic\", \"bay\", \"scott\"],\n",
    "        \"expected\": 0.5  # Max score is 0.5 (2 matches in group 2: charm, magic)\n",
    "    },\n",
    "    {\n",
    "        \"name\": \"Invalid guess - word not in remaining_words\",\n",
    "        \"guess\": [\"charm\", \"not_valid\", \"magic\", \"spell\"],\n",
    "        \"expected\": 0\n",
    "    },\n",
    "    {\n",
    "        \"name\": \"Invalid guess - already guessed\",\n",
    "        \"guess\": [\"charm\", \"cape\", \"bay\", \"pawn\", \"tights\"],\n",
    "        \"expected\": 0\n",
    "    },\n",
    "    {\n",
    "        \"name\": \"Empty guess\",\n",
    "        \"guess\": [],\n",
    "        \"expected\": 0  # Empty guess should return 0\n",
    "    },\n",
    "    {\n",
    "        \"name\": \"Guess with no matches\",\n",
    "        \"guess\": [\"not_in_solution\", \"another_word\"],\n",
    "        \"expected\": 0  # No matches in any group\n",
    "    },\n",
    "    {\n",
    "        \"name\": \"not four words\",\n",
    "        \"guess\": [\"instrument\", \"pawn\", \"puppet\", \"pawn\"],\n",
    "        \"expected\": 0  # Not four unique words\n",
    "    }\n",
    "]\n",
    "\n",
    "# Run test cases\n",
    "print(\"Testing scoring function:\")\n",
    "for test in test_cases:\n",
    "    score = score_guess(test[\"guess\"], INVALID_GUESSES, REMAINING_WORDS, SOLUTION)\n",
    "    result = \"PASS\" if score == test[\"expected\"] else \"FAIL\"\n",
    "    print(f\"{result}: {test['name']} - Expected: {test['expected']}, Got: {score}\")\n"
   ]
  },
  {
   "cell_type": "code",
   "execution_count": 4,
   "id": "98f815d9",
   "metadata": {},
   "outputs": [],
   "source": [
    "\n",
    "# Function to interactively test the scoring function\n",
    "def check_score(guess_words):\n",
    "    \"\"\"Check the score of a custom guess against the current solution\"\"\"\n",
    "    if not isinstance(guess_words, list):\n",
    "        print(\"Error: guess_words must be a list of strings\")\n",
    "        return\n",
    "        \n",
    "    score = score_guess(guess_words, INVALID_GUESSES, REMAINING_WORDS, SOLUTION)\n",
    "    valid_guess = all(word in REMAINING_WORDS for word in guess_words)\n",
    "    \n",
    "    print(f\"Guess: {guess_words}\")\n",
    "    print(f\"Valid guess (all words in remaining_words): {'Yes' if valid_guess else 'No'}\")\n",
    "    print(f\"Score: {score}\")\n",
    "    \n",
    "    # Print matches with solution groups for debugging\n",
    "    for i, group in enumerate(SOLUTION[\"groups\"]):\n",
    "        matches = [word for word in guess_words if word in group[\"words\"]]\n",
    "        if matches:\n",
    "            print(f\"Group {i+1} ({group['reason']}) matches: {matches} ({len(matches) * 0.25:.2f} points)\")\n",
    "    \n",
    "    return score\n"
   ]
  },
  {
   "cell_type": "code",
   "execution_count": 5,
   "id": "f8cacfed",
   "metadata": {},
   "outputs": [
    {
     "name": "stdout",
     "output_type": "stream",
     "text": [
      "Guess: ['charm', 'hex', 'magic', 'spell']\n",
      "Valid guess (all words in remaining_words): Yes\n",
      "Score: 1.0\n",
      "Group 2 (sorcerer's output) matches: ['charm', 'hex', 'magic', 'spell'] (1.00 points)\n"
     ]
    },
    {
     "data": {
      "text/plain": [
       "1.0"
      ]
     },
     "execution_count": 5,
     "metadata": {},
     "output_type": "execute_result"
    }
   ],
   "source": [
    "\n",
    "# Example:\n",
    "check_score([\"charm\", \"hex\", \"magic\", \"spell\"])"
   ]
  },
  {
   "cell_type": "code",
   "execution_count": 6,
   "id": "bcb69920",
   "metadata": {},
   "outputs": [
    {
     "name": "stdout",
     "output_type": "stream",
     "text": [
      "\n",
      "Testing invalid groups functionality:\n",
      "Score for previously guessed group: 0\n",
      "Score for valid group: 1.0\n"
     ]
    }
   ],
   "source": [
    "# Test the invalid groups functionality\n",
    "INVALID_GUESSES.append([\"charm\", \"hex\", \"magic\", \"instrument\"])  # Add a previous guess to invalid groups\n",
    "\n",
    "print(\"\\nTesting invalid groups functionality:\")\n",
    "test_invalid = [\"charm\", \"hex\", \"magic\", \"instrument\"]\n",
    "score = score_guess(test_invalid, INVALID_GUESSES, REMAINING_WORDS, SOLUTION)\n",
    "print(f\"Score for previously guessed group: {score}\")  # Should return 0\n",
    "\n",
    "# Test a different group that's valid\n",
    "test_valid = [\"instrument\", \"pawn\", \"puppet\", \"tool\"]\n",
    "score = score_guess(test_valid, INVALID_GUESSES, REMAINING_WORDS, SOLUTION)\n",
    "print(f\"Score for valid group: {score}\")  # Should return 1.0"
   ]
  },
  {
   "cell_type": "code",
   "execution_count": null,
   "id": "4037ed41",
   "metadata": {},
   "outputs": [],
   "source": []
  },
  {
   "cell_type": "code",
   "execution_count": 7,
   "id": "615ea04f",
   "metadata": {
    "vscode": {
     "languageId": "ruby"
    }
   },
   "outputs": [
    {
     "name": "stdout",
     "output_type": "stream",
     "text": [
      "Random groups generated:\n",
      "Group 1: ['underwear', 'charm', 'tights', 'pawn']\n",
      "Group 2: ['carpenter', 'underwear', 'spell', 'cape']\n",
      "Group 3: ['instrument', 'charm', 'pawn', 'scott']\n",
      "Group 4: ['charm', 'pawn', 'underwear', 'scott']\n",
      "Group 5: ['pawn', 'woo', 'mask', 'charm']\n",
      "Group 6: ['mask', 'carpenter', 'hex', 'bay']\n",
      "Group 7: ['charm', 'hex', 'magic', 'spell']\n",
      "Group 8: ['bay', 'carpenter', 'scott', 'instrument']\n",
      "Group 9: ['instrument', 'charm', 'bay', 'cape']\n",
      "Group 10: ['bay', 'carpenter', 'scott', 'instrument']\n",
      "Group 11: ['not_word', 'charm', 'bay', 'cape']\n",
      "Group 12: ['bay', 'carpenter', 'scott', 'instrument']\n",
      "Group 13: ['instrument', 'charm', 'bay', 'cape', 'bottle']\n"
     ]
    }
   ],
   "source": [
    "import random\n",
    "\n",
    "# set a seed for reproducibility\n",
    "random.seed(42)\n",
    "\n",
    "# Generate 6 random groups of 4 words from REMAINING_WORDS with replacement\n",
    "random_groups = []\n",
    "for _ in range(6):\n",
    "    # Sample 4 words with replacement\n",
    "    group = random.choices(REMAINING_WORDS, k=4)\n",
    "    random_groups.append(group)\n",
    "\n",
    "# add a correct guess to the random groups\n",
    "random_groups.append([\"charm\", \"hex\", \"magic\", \"spell\"])  # Ensure one group is a correct guess\n",
    "random_groups.append([\"bay\", \"carpenter\", \"scott\", \"instrument\"])  # Another valid group\n",
    "random_groups.append([\"instrument\", \"charm\", \"bay\", \"cape\"])  # Another valid group\n",
    "random_groups.append([\"bay\", \"carpenter\", \"scott\", \"instrument\"])  # Another valid group\n",
    "random_groups.append([\"not_word\", \"charm\", \"bay\", \"cape\"])  # Another valid group\n",
    "random_groups.append([\"bay\", \"carpenter\", \"scott\", \"instrument\"])  # Another invalide\n",
    "random_groups.append([\"instrument\", \"charm\", \"bay\", \"cape\", \"bottle\"])  # Another valid group\n",
    "    \n",
    "# Print the random groups\n",
    "print(\"Random groups generated:\")\n",
    "for i, group in enumerate(random_groups):\n",
    "    print(f\"Group {i+1}: {group}\")"
   ]
  },
  {
   "cell_type": "code",
   "execution_count": 8,
   "id": "3657025f",
   "metadata": {},
   "outputs": [
    {
     "name": "stdout",
     "output_type": "stream",
     "text": [
      "Score for random group 1: 0.5 - ['underwear', 'charm', 'tights', 'pawn']\n",
      "Score for random group 2: 0.5 - ['carpenter', 'underwear', 'spell', 'cape']\n",
      "Score for random group 3: 0.5 - ['instrument', 'charm', 'pawn', 'scott']\n",
      "Score for random group 4: 0.25 - ['charm', 'pawn', 'underwear', 'scott']\n",
      "Score for random group 5: 0.25 - ['pawn', 'woo', 'mask', 'charm']\n",
      "Score for random group 6: 0.5 - ['mask', 'carpenter', 'hex', 'bay']\n",
      "Score for random group 7: 1.0 - ['charm', 'hex', 'magic', 'spell']\n",
      "Score for random group 8: 0.75 - ['bay', 'carpenter', 'scott', 'instrument']\n",
      "Score for random group 9: 0.25 - ['instrument', 'charm', 'bay', 'cape']\n",
      "Score for random group 10: 0.75 - ['bay', 'carpenter', 'scott', 'instrument']\n",
      "Score for random group 11: 0 - ['not_word', 'charm', 'bay', 'cape']\n",
      "Score for random group 12: 0.75 - ['bay', 'carpenter', 'scott', 'instrument']\n",
      "Score for random group 13: 0 - ['instrument', 'charm', 'bay', 'cape', 'bottle']\n"
     ]
    }
   ],
   "source": [
    "# for each group in the random grouops, compute the score\n",
    "scores = []\n",
    "for i, group in enumerate(random_groups):\n",
    "    score = score_guess(group, INVALID_GUESSES, REMAINING_WORDS, SOLUTION)\n",
    "    scores.append(score)\n",
    "    print(f\"Score for random group {i+1}: {score} - {group}\")"
   ]
  },
  {
   "cell_type": "code",
   "execution_count": 9,
   "id": "708a29ed",
   "metadata": {},
   "outputs": [
    {
     "name": "stdout",
     "output_type": "stream",
     "text": [
      "Advantages for each score:\n",
      "Group 1: 0.13 - score: 0.5 group: ['underwear', 'charm', 'tights', 'pawn']\n",
      "Group 2: 0.13 - score: 0.5 group: ['carpenter', 'underwear', 'spell', 'cape']\n",
      "Group 3: 0.13 - score: 0.5 group: ['instrument', 'charm', 'pawn', 'scott']\n",
      "Group 4: -0.73 - score: 0.25 group: ['charm', 'pawn', 'underwear', 'scott']\n",
      "Group 5: -0.73 - score: 0.25 group: ['pawn', 'woo', 'mask', 'charm']\n",
      "Group 6: 0.13 - score: 0.5 group: ['mask', 'carpenter', 'hex', 'bay']\n",
      "Group 7: 1.85 - score: 1.0 group: ['charm', 'hex', 'magic', 'spell']\n",
      "Group 8: 0.99 - score: 0.75 group: ['bay', 'carpenter', 'scott', 'instrument']\n",
      "Group 9: -0.73 - score: 0.25 group: ['instrument', 'charm', 'bay', 'cape']\n",
      "Group 10: 0.99 - score: 0.75 group: ['bay', 'carpenter', 'scott', 'instrument']\n",
      "Group 11: -1.58 - score: 0 group: ['not_word', 'charm', 'bay', 'cape']\n",
      "Group 12: 0.99 - score: 0.75 group: ['bay', 'carpenter', 'scott', 'instrument']\n",
      "Group 13: -1.58 - score: 0 group: ['instrument', 'charm', 'bay', 'cape', 'bottle']\n",
      "All tests completed.\n"
     ]
    }
   ],
   "source": [
    "# compute the advantages for each score in scores\n",
    "advantages = compute_advantages(scores)\n",
    "print(\"Advantages for each score:\")\n",
    "for i, advantage in enumerate(advantages):\n",
    "    print(f\"Group {i+1}: {advantage:.2f} - score: {scores[i]} group: {random_groups[i]}\")\n",
    "print(\"All tests completed.\")"
   ]
  },
  {
   "cell_type": "code",
   "execution_count": null,
   "id": "04fc4222",
   "metadata": {},
   "outputs": [],
   "source": []
  }
 ],
 "metadata": {
  "kernelspec": {
   "display_name": "venv",
   "language": "python",
   "name": "python3"
  },
  "language_info": {
   "codemirror_mode": {
    "name": "ipython",
    "version": 3
   },
   "file_extension": ".py",
   "mimetype": "text/x-python",
   "name": "python",
   "nbconvert_exporter": "python",
   "pygments_lexer": "ipython3",
   "version": "3.12.10"
  }
 },
 "nbformat": 4,
 "nbformat_minor": 5
}
